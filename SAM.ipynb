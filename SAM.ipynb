{
  "nbformat": 4,
  "nbformat_minor": 0,
  "metadata": {
    "colab": {
      "provenance": [],
      "gpuType": "T4"
    },
    "kernelspec": {
      "name": "python3",
      "display_name": "Python 3"
    },
    "language_info": {
      "name": "python"
    },
    "accelerator": "GPU"
  },
  "cells": [
    {
      "cell_type": "markdown",
      "source": [
        "# **Intalação de Pacotes e Bibliotecas Necesárias**"
      ],
      "metadata": {
        "id": "PJWbY60jyafx"
      }
    },
    {
      "cell_type": "code",
      "execution_count": null,
      "metadata": {
        "id": "RxGi8IBfyxBo"
      },
      "outputs": [],
      "source": [
        "!pip install torch torchvision torchaudio -f https://download.pytorch.org/whl/torch_stable.html"
      ]
    },
    {
      "cell_type": "code",
      "source": [
        "!pip install opencv-python matplotlib\n",
        "!pip install 'git+https://github.com/facebookresearch/segment-anything.git'"
      ],
      "metadata": {
        "id": "zfoB7ZkSqN8k"
      },
      "execution_count": null,
      "outputs": []
    },
    {
      "cell_type": "markdown",
      "source": [
        "# **Importação de Bibliotecas**"
      ],
      "metadata": {
        "id": "qn-VgRWjysec"
      }
    },
    {
      "cell_type": "code",
      "source": [
        "import torch\n",
        "import torchvision\n",
        "print(\"PyTorch version:\", torch.__version__)\n",
        "print(\"Torchvision version:\", torchvision.__version__)\n",
        "print(\"CUDA is available:\", torch.cuda.is_available())"
      ],
      "metadata": {
        "id": "Yvp8ThLBqN_P"
      },
      "execution_count": null,
      "outputs": []
    },
    {
      "cell_type": "code",
      "source": [
        "import numpy as np\n",
        "import matplotlib.pyplot as plt\n",
        "import cv2\n",
        "from sklearn.metrics import jaccard_score, precision_recall_fscore_support, accuracy_score\n",
        "import sys\n",
        "sys.path.append(\"..\")\n",
        "from segment_anything import sam_model_registry, SamAutomaticMaskGenerator, SamPredictor"
      ],
      "metadata": {
        "id": "J4HW3LF-qOBn"
      },
      "execution_count": null,
      "outputs": []
    },
    {
      "cell_type": "markdown",
      "source": [
        "# **Google Drive**"
      ],
      "metadata": {
        "id": "aMKwXM83zfbb"
      }
    },
    {
      "cell_type": "code",
      "source": [
        "from google.colab import drive\n",
        "drive.mount('/content/drive')"
      ],
      "metadata": {
        "id": "5KUvayc7waKd"
      },
      "execution_count": null,
      "outputs": []
    },
    {
      "cell_type": "markdown",
      "source": [
        "# **Carregamento e Pré-processamento de Imagens**"
      ],
      "metadata": {
        "id": "4BoksHNBzlgt"
      }
    },
    {
      "cell_type": "code",
      "source": [
        "image = cv2.imread('/content/drive/MyDrive/Modelos/Dataset/test_images/da111ca5-520f-4ea8-97ad-ae5fce58ee91.png')\n",
        "image = cv2.cvtColor(image, cv2.COLOR_BGR2RGB)\n",
        "image = cv2.resize(image, (512, 512))"
      ],
      "metadata": {
        "id": "HwE40952qOEC"
      },
      "execution_count": null,
      "outputs": []
    },
    {
      "cell_type": "code",
      "source": [
        "plt.figure(figsize=(7,7))\n",
        "plt.imshow(image)\n",
        "plt.axis('off')\n",
        "plt.show()"
      ],
      "metadata": {
        "id": "oswLaRcaqOGX"
      },
      "execution_count": null,
      "outputs": []
    },
    {
      "cell_type": "markdown",
      "source": [
        "# **Carregamento do Modelo SAM**"
      ],
      "metadata": {
        "id": "J8FbxELfzye-"
      }
    },
    {
      "cell_type": "code",
      "source": [
        "sam_checkpoint = \"/content/drive/MyDrive/Modelos/SAM/sam_vit_h_4b8939.pth\"\n",
        "model_type = \"vit_h\"\n",
        "device = \"cuda\"\n",
        "\n",
        "sam = sam_model_registry[model_type](checkpoint=sam_checkpoint)\n",
        "sam.to(device=device)"
      ],
      "metadata": {
        "id": "oG-fcuk1qOMl"
      },
      "execution_count": null,
      "outputs": []
    },
    {
      "cell_type": "markdown",
      "source": [
        "# **Gerar Máscaras**"
      ],
      "metadata": {
        "id": "x-eW_dNoz6Z3"
      }
    },
    {
      "cell_type": "code",
      "source": [
        "mask_generator_ = SamAutomaticMaskGenerator(\n",
        "    model=sam,\n",
        "    points_per_side=32,\n",
        "    pred_iou_thresh=0.9,\n",
        "    stability_score_thresh=0.96,\n",
        "    crop_n_layers=1,\n",
        "    crop_n_points_downscale_factor=2,\n",
        "    min_mask_region_area=100,  # Requires open-cv to run post-processing\n",
        ")"
      ],
      "metadata": {
        "id": "7C82C_0lqbhH"
      },
      "execution_count": null,
      "outputs": []
    },
    {
      "cell_type": "code",
      "source": [
        "masks = mask_generator_.generate(image)\n",
        "print(len(masks))"
      ],
      "metadata": {
        "id": "ipd08QwUqbjn"
      },
      "execution_count": null,
      "outputs": []
    },
    {
      "cell_type": "markdown",
      "source": [
        "# **Visualização das Máscaras Geradas**"
      ],
      "metadata": {
        "id": "ZUOao1Fe0Ej-"
      }
    },
    {
      "cell_type": "code",
      "source": [
        "def show_anns(anns):\n",
        "    if len(anns) == 0:\n",
        "        return\n",
        "    sorted_anns = sorted(anns, key=(lambda x: x['area']), reverse=True)\n",
        "    ax = plt.gca()\n",
        "    ax.set_autoscale_on(False)\n",
        "    polygons = []\n",
        "    color = []\n",
        "    for ann in sorted_anns:\n",
        "        m = ann['segmentation']\n",
        "        img = np.ones((m.shape[0], m.shape[1], 3))\n",
        "        color_mask = np.random.random((1, 3)).tolist()[0]\n",
        "        for i in range(3):\n",
        "            img[:,:,i] = color_mask[i]\n",
        "        ax.imshow(np.dstack((img, m*0.35)))\n"
      ],
      "metadata": {
        "id": "SsdyWfUYqbmV"
      },
      "execution_count": null,
      "outputs": []
    },
    {
      "cell_type": "code",
      "source": [
        "plt.figure(figsize=(7,7))\n",
        "plt.imshow(image)\n",
        "show_anns(masks)\n",
        "plt.axis('off')\n",
        "plt.show()"
      ],
      "metadata": {
        "id": "O5vsSYkvqbo6"
      },
      "execution_count": null,
      "outputs": []
    },
    {
      "cell_type": "markdown",
      "source": [
        "# **Avaliação de Resultados**"
      ],
      "metadata": {
        "id": "SjR3X8QI0gfX"
      }
    },
    {
      "cell_type": "code",
      "source": [
        "# Load the ground truth binary mask\n",
        "ground_truth_mask = cv2.imread('/content/drive/MyDrive/Modelos/Dataset/test_masks/da111ca5-520f-4ea8-97ad-ae5fce58ee91.png', cv2.IMREAD_GRAYSCALE)\n",
        "ground_truth_mask = cv2.resize(ground_truth_mask, (720, 720))\n",
        "ground_truth_mask = (ground_truth_mask > 0).astype(np.uint8)  # Convert to binary"
      ],
      "metadata": {
        "id": "At1VPueZqigB"
      },
      "execution_count": null,
      "outputs": []
    },
    {
      "cell_type": "code",
      "source": [
        "# Generate the predicted binary mask\n",
        "predicted_mask = np.zeros((512, 512), dtype=np.uint8)\n",
        "for mask in masks:\n",
        "    predicted_mask[mask['segmentation']] = 1"
      ],
      "metadata": {
        "id": "IEY7HixpqiiM"
      },
      "execution_count": null,
      "outputs": []
    },
    {
      "cell_type": "code",
      "source": [
        "# Flatten masks for metric calculations\n",
        "ground_truth_flat = ground_truth_mask.flatten()\n",
        "predicted_flat = predicted_mask.flatten()"
      ],
      "metadata": {
        "id": "k7UmzhITlXvl"
      },
      "execution_count": null,
      "outputs": []
    },
    {
      "cell_type": "code",
      "source": [
        "iou = jaccard_score(ground_truth_flat, predicted_flat)\n",
        "print(f\"IoU: {iou}\")"
      ],
      "metadata": {
        "id": "u33F1fOkqikZ"
      },
      "execution_count": null,
      "outputs": []
    },
    {
      "cell_type": "code",
      "source": [
        "# Visualize the ground truth and predicted masks\n",
        "plt.figure(figsize=(15, 7))\n",
        "plt.subplot(1, 3, 1)\n",
        "plt.imshow(image)\n",
        "plt.title('Original Image')\n",
        "\n",
        "plt.subplot(1, 3, 2)\n",
        "plt.imshow(predicted_mask, cmap='gray')\n",
        "plt.title('Predicted Mask')\n",
        "\n",
        "plt.subplot(1, 3, 3)\n",
        "plt.imshow(ground_truth_mask, cmap='gray')\n",
        "plt.title('Ground Truth Mask')\n",
        "\n",
        "plt.show()"
      ],
      "metadata": {
        "id": "Ly_6qlu_qioO"
      },
      "execution_count": null,
      "outputs": []
    }
  ]
}